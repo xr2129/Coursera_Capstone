{
 "cells": [
  {
   "cell_type": "markdown",
   "metadata": {},
   "source": [
    "# Webcraping Data and Make DF of Postal Code\n",
    "This notebook webscrapes data from this [wikipedia page](https://en.wikipedia.org/wiki/List_of_postal_codes_of_Canada:_M), which contains lists of postal code of Canada. Then it makes a dataframe and saves it.  \n",
    "There are following instructions on the dataframe:\n",
    "1. The dataframe will consist of three columns: PostalCode, Borough, and Neighborhood\n",
    "2. Only process the cells that have an assigned borough. Ignore cells with a borough that is Not assigned.\n",
    "3. More than one neighborhood can exist in one postal code area. For example, in the table on the Wikipedia page, you will notice that M5A is listed twice and has two neighborhoods: Harbourfront and Regent Park. These two rows will be combined into one row with the neighborhoods separated with a comma as shown in row 11 in the above table.\n",
    "4. If a cell has a borough but a Not assigned neighborhood, then the neighborhood will be the same as the borough.\n",
    "5. Clean your Notebook and add Markdown cells to explain your work and any assumptions you are making.\n",
    "6. In the last cell of your notebook, use the .shape method to print the number of rows of your dataframe."
   ]
  },
  {
   "cell_type": "code",
   "execution_count": 5,
   "metadata": {},
   "outputs": [],
   "source": [
    "#install BeautifulSoup if not yet done\n",
    "#!pip install BeautifulSoup4\n",
    "\n",
    "#install lxml parser package if not yet done\n",
    "#!pip install lxml\n",
    "\n",
    "#install requests library if not yet done\n",
    "#!pip install requests\n",
    "\n",
    "#importing libraries\n",
    "import pandas as pd\n",
    "from bs4 import BeautifulSoup\n",
    "import requests"
   ]
  },
  {
   "cell_type": "code",
   "execution_count": 6,
   "metadata": {},
   "outputs": [],
   "source": [
    "#define variabels\n",
    "url = 'https://en.wikipedia.org/wiki/List_of_postal_codes_of_Canada:_M'"
   ]
  },
  {
   "cell_type": "code",
   "execution_count": 77,
   "metadata": {
    "scrolled": true
   },
   "outputs": [
    {
     "data": {
      "text/plain": [
       "['Postal code\\n', 'Borough\\n', 'Neighborhood\\n']"
      ]
     },
     "execution_count": 77,
     "metadata": {},
     "output_type": "execute_result"
    }
   ],
   "source": [
    "#get sourcode of wiki page\n",
    "source = requests.get('https://en.wikipedia.org/wiki/List_of_postal_codes_of_Canada:_M')\n",
    "#make soup\n",
    "soup = BeautifulSoup(source.text,'lxml')\n",
    "#find the postal code table\n",
    "tb = soup.table\n",
    "#find all rows\n",
    "t_rows = tb.find_all('tr')"
   ]
  },
  {
   "cell_type": "code",
   "execution_count": 127,
   "metadata": {},
   "outputs": [
    {
     "name": "stderr",
     "output_type": "stream",
     "text": [
      "/Users/mr.x/anaconda3/lib/python3.7/site-packages/ipykernel_launcher.py:6: DeprecationWarning: The default dtype for empty Series will be 'object' instead of 'float64' in a future version. Specify a dtype explicitly to silence this warning.\n",
      "  \n"
     ]
    }
   ],
   "source": [
    "#convert into dataframe\n",
    "df = pd.DataFrame()\n",
    "for tr in t_rows:\n",
    "    td = tr.find_all('td')\n",
    "    rows = [i.text for i in td]\n",
    "    if pd.Series(rows).empty == False:\n",
    "        df =df.append(pd.Series(rows),ignore_index=True)\n",
    "\n",
    "#clean dataframe\n",
    "col_dic = dict(zip(df.columns,['PostalCode','Borough','Neighborhood']))\n",
    "df = df.rename(columns = col_dic ).apply(lambda x: x.str.rstrip('\\n'))\n",
    "df = df[df['Borough'] !='Not assigned']\n",
    "df['Neighborhood'] = df['Neighborhood'].apply(lambda x: x.replace(' /',','))\n",
    "\n",
    "#save dataframe to .csv file\n",
    "df.to_csv('postal_code')"
   ]
  },
  {
   "cell_type": "code",
   "execution_count": 128,
   "metadata": {},
   "outputs": [
    {
     "data": {
      "text/plain": [
       "(103, 3)"
      ]
     },
     "execution_count": 128,
     "metadata": {},
     "output_type": "execute_result"
    }
   ],
   "source": [
    "df.shape"
   ]
  },
  {
   "cell_type": "code",
   "execution_count": null,
   "metadata": {},
   "outputs": [],
   "source": []
  }
 ],
 "metadata": {
  "kernelspec": {
   "display_name": "Python 3",
   "language": "python",
   "name": "python3"
  },
  "language_info": {
   "codemirror_mode": {
    "name": "ipython",
    "version": 3
   },
   "file_extension": ".py",
   "mimetype": "text/x-python",
   "name": "python",
   "nbconvert_exporter": "python",
   "pygments_lexer": "ipython3",
   "version": "3.7.5"
  }
 },
 "nbformat": 4,
 "nbformat_minor": 4
}
